{
 "cells": [
  {
   "cell_type": "code",
   "execution_count": 1,
   "id": "a6c09534-6980-4707-bc3b-c374e341e305",
   "metadata": {
    "tags": []
   },
   "outputs": [],
   "source": [
    "import pandas as pd\n",
    "import matplotlib.pyplot as plt\n",
    "from scipy import stats\n",
    "from itertools import combinations"
   ]
  },
  {
   "cell_type": "code",
   "execution_count": 2,
   "id": "9a396236-1bd4-47ce-9199-a48d672728ca",
   "metadata": {
    "tags": []
   },
   "outputs": [],
   "source": [
    "# matplotlib 한글 설정\n",
    "\n",
    "import matplotlib\n",
    "matplotlib.rcParams['font.family'] = 'Malgun Gothic' # Windows\n",
    "# matplotlib.rcParams['font.family'] = 'AppleGothic' # Mac\n",
    "matplotlib.rcParams['font.size'] = 10\n",
    "matplotlib.rcParams['axes.unicode_minus'] = False"
   ]
  },
  {
   "cell_type": "code",
   "execution_count": 3,
   "id": "9c0f4786-2753-41d1-9129-a7b753af4c74",
   "metadata": {
    "tags": []
   },
   "outputs": [],
   "source": [
    "covid19 = pd.read_csv('covid19_daily.csv')\n",
    "finance = pd.read_csv('finance.csv')\n",
    "industry = pd.read_csv('industry.csv')\n",
    "kospi200 = pd.read_csv('kospi200_last.csv')\n",
    "kospi200['sort'] = kospi200['sort'].fillna(kospi200['name'])\n",
    "finance_pivot = pd.pivot_table(finance, values='jong_ga', index='date', columns='name')\n",
    "finance_pivot = finance_pivot.dropna(axis=1)\n",
    "finance_industry = pd.merge(finance, kospi200, how='left', on='name')\n",
    "finance_industry = finance_industry.drop(columns=['code','rank'])\n",
    "finance_industry_pivot = pd.pivot_table(finance_industry, values='jong_ga', index='date', columns='industry', aggfunc='mean')\n",
    "finance_industry_pivot = finance_industry_pivot.dropna(axis=1)\n",
    "finance_sort_pivot = pd.pivot_table(finance_industry, values='jong_ga', index='date', columns='sort', aggfunc='mean')\n",
    "finance_sort_pivot = finance_sort_pivot.dropna(axis=1)"
   ]
  },
  {
   "cell_type": "code",
   "execution_count": 4,
   "id": "23a6bd8b-cc21-436d-a0cc-566dad0d4dc0",
   "metadata": {
    "tags": []
   },
   "outputs": [],
   "source": [
    "# 회사 상관관계\n",
    "merge_pivot = pd.merge(covid19, finance_pivot, how='inner', on='date')\n",
    "merge_pivot = merge_pivot.drop(['male','female'], axis=1)\n",
    "merge_pivot = merge_pivot.set_index('date')\n",
    "merge_pivot = merge_pivot[merge_pivot.index>'2022-01-26']\n",
    "merge_pivot_corr = merge_pivot.corr()\n",
    "\n",
    "positive_corr_list = list(merge_pivot_corr[merge_pivot_corr['total'] >= 0.4].index)[1:]\n",
    "negative_corr_list = list(merge_pivot_corr[merge_pivot_corr['total'] <= -0.4].index)\n",
    "row_corr_list = list(merge_pivot_corr[abs(merge_pivot_corr['total']) <= 0.05].index)"
   ]
  },
  {
   "cell_type": "code",
   "execution_count": 5,
   "id": "b8365390-06af-4166-bbb3-58e1b8149fc3",
   "metadata": {
    "tags": []
   },
   "outputs": [
    {
     "data": {
      "image/png": "[encoded data removed]",
      "text/plain": [
       "<Figure size 640x480 with 1 Axes>"
      ]
     },
     "metadata": {},
     "output_type": "display_data"
    }
   ],
   "source": [
    "df = merge_pivot_corr['total']\n",
    "df = df.sort_values().iloc[:-1]\n",
    "x = df.index\n",
    "y = df.values\n",
    "\n",
    "plt.bar(x, y, color='g')\n",
    "plt.title('상관관계(after)')\n",
    "plt.xlabel('KOSPI200 기업')\n",
    "plt.ylabel('상관계수')\n",
    "plt.xticks([], [])\n",
    "plt.axhline(y=0.4, color='r', linestyle='--')\n",
    "plt.axhline(y=0.6, color='r', linestyle='--')\n",
    "plt.axhline(y=0.-0.4, color='b', linestyle='--')\n",
    "plt.ylim(-0.9,0.9)\n",
    "\n",
    "plt.show()"
   ]
  },
  {
   "cell_type": "code",
   "execution_count": 6,
   "id": "871cf692-c564-49eb-a706-1a11cddf96cb",
   "metadata": {
    "tags": []
   },
   "outputs": [
    {
     "name": "stdout",
     "output_type": "stream",
     "text": [
      "['GS', 'GS리테일', 'HL만도', 'KG스틸', 'KT', 'LIG넥스원', 'LX인터내셔널', 'OCI홀딩스', 'S-Oil', '대한유화', '대한전선', '두산밥캣', '롯데웰푸드', '롯데지주', '롯데칠성', '메리츠금융지주', '삼성물산', '삼성엔지니어링', '씨에스윈드', '영원무역', '오뚜기', '풍산', '한국타이어앤테크놀로지', '한미약품', '한솔케미칼', '현대모비스', '현대미포조선'] \n",
      "\n",
      "검정 탈락 : 27개 기업\n"
     ]
    }
   ],
   "source": [
    "# 상관 계수 유의성 검정\n",
    "variable_combinations = combinations(merge_pivot_corr.columns, 2)\n",
    "count = 0\n",
    "cannot_corr_list = []\n",
    "for variable_pair in variable_combinations:\n",
    "    if variable_pair[0] == 'total':\n",
    "        x = merge_pivot[variable_pair[0]]\n",
    "        y = merge_pivot[variable_pair[1]]\n",
    "        correlation_coef, p_value = stats.pearsonr(x, y)\n",
    "\n",
    "        if p_value > 0.05:\n",
    "            cannot_corr_list.append(variable_pair[1])\n",
    "            count += 1\n",
    "            \n",
    "print(cannot_corr_list, '\\n')\n",
    "print('검정 탈락 :', f'{count}개 기업')"
   ]
  },
  {
   "cell_type": "code",
   "execution_count": 7,
   "id": "a7c547dc-da2d-4b4f-8758-87d6fb29fd26",
   "metadata": {
    "tags": []
   },
   "outputs": [
    {
     "name": "stdout",
     "output_type": "stream",
     "text": [
      "긍정적 상관관계 \n",
      " ['BNK금융지주', 'CJ대한통운', 'DGB금융지주', 'GS건설', 'HDC현대산업개발', 'HMM', 'KCC', 'LG디스플레이', 'LG생활건강', 'LG유플러스', 'LG이노텍', 'NAVER', 'NH투자증권', 'PI첨단소재', 'SK', 'SK케미칼', 'SK텔레콤', 'SK하이닉스', '강원랜드', '넷마블', '녹십자', '녹십자홀딩스', '대상', '대우건설', '대웅', '대한항공', '동국제강', '동서', '동원시스템즈', '두산', '두산에너빌리티', '두산퓨얼셀', '롯데관광개발', '롯데에너지머티리얼즈', '롯데정밀화학', '미래에셋증권', '보령', '삼성증권', '신세계', '신세계인터내셔날', '신풍제약', '쌍용C&E', '아시아나항공', '아이에스동서', '에스원', '우리금융지주', '이마트', '종근당', '지누스', '카카오', '코웨이', '쿠쿠홈시스', '태광산업', '하나투어', '하이트진로', '한국금융지주', '한국전력', '한샘', '한세실업', '한온시스템', '한일시멘트', '한전KPS', '한전기술', '한화', '한화생명', '한화시스템', '현대건설', '현대백화점', '현대홈쇼핑', '화승엔터프라이즈', '효성', '효성첨단소재']\n",
      "\n",
      "부정적 상관관계 \n",
      " ['LG화학', 'LS', '삼성SDI', '삼양식품', '오리온', '오리온홀딩스', '포스코퓨처엠']\n"
     ]
    }
   ],
   "source": [
    "print('긍정적 상관관계', '\\n', positive_corr_list)\n",
    "print()\n",
    "print('부정적 상관관계', '\\n', negative_corr_list)"
   ]
  },
  {
   "cell_type": "code",
   "execution_count": 8,
   "id": "917514cd-dc5f-4e78-ae3a-210649782164",
   "metadata": {
    "tags": []
   },
   "outputs": [
    {
     "data": {
      "text/html": [
       "<div>\n",
       "<style scoped>\n",
       "    .dataframe tbody tr th:only-of-type {\n",
       "        vertical-align: middle;\n",
       "    }\n",
       "\n",
       "    .dataframe tbody tr th {\n",
       "        vertical-align: top;\n",
       "    }\n",
       "\n",
       "    .dataframe thead th {\n",
       "        text-align: right;\n",
       "    }\n",
       "</style>\n",
       "<table border=\"1\" class=\"dataframe\">\n",
       "  <thead>\n",
       "    <tr style=\"text-align: right;\">\n",
       "      <th></th>\n",
       "      <th>name</th>\n",
       "      <th>code</th>\n",
       "      <th>rank</th>\n",
       "      <th>industry</th>\n",
       "      <th>sort</th>\n",
       "    </tr>\n",
       "  </thead>\n",
       "  <tbody>\n",
       "    <tr>\n",
       "      <th>2</th>\n",
       "      <td>SK하이닉스</td>\n",
       "      <td>660</td>\n",
       "      <td>3</td>\n",
       "      <td>반도체와반도체장비</td>\n",
       "      <td>SK</td>\n",
       "    </tr>\n",
       "    <tr>\n",
       "      <th>8</th>\n",
       "      <td>NAVER</td>\n",
       "      <td>35420</td>\n",
       "      <td>9</td>\n",
       "      <td>양방향미디어와서비스</td>\n",
       "      <td>네이버</td>\n",
       "    </tr>\n",
       "    <tr>\n",
       "      <th>12</th>\n",
       "      <td>카카오</td>\n",
       "      <td>35720</td>\n",
       "      <td>13</td>\n",
       "      <td>양방향미디어와서비스</td>\n",
       "      <td>카카오</td>\n",
       "    </tr>\n",
       "    <tr>\n",
       "      <th>22</th>\n",
       "      <td>한국전력</td>\n",
       "      <td>15760</td>\n",
       "      <td>23</td>\n",
       "      <td>전기유틸리티</td>\n",
       "      <td>한국전력공사</td>\n",
       "    </tr>\n",
       "    <tr>\n",
       "      <th>23</th>\n",
       "      <td>SK</td>\n",
       "      <td>34730</td>\n",
       "      <td>24</td>\n",
       "      <td>복합기업</td>\n",
       "      <td>SK</td>\n",
       "    </tr>\n",
       "    <tr>\n",
       "      <th>...</th>\n",
       "      <td>...</td>\n",
       "      <td>...</td>\n",
       "      <td>...</td>\n",
       "      <td>...</td>\n",
       "      <td>...</td>\n",
       "    </tr>\n",
       "    <tr>\n",
       "      <th>194</th>\n",
       "      <td>보령</td>\n",
       "      <td>3850</td>\n",
       "      <td>195</td>\n",
       "      <td>제약</td>\n",
       "      <td>보령</td>\n",
       "    </tr>\n",
       "    <tr>\n",
       "      <th>196</th>\n",
       "      <td>쿠쿠홈시스</td>\n",
       "      <td>284740</td>\n",
       "      <td>197</td>\n",
       "      <td>가정용기기와용품</td>\n",
       "      <td>쿠쿠홀딩스</td>\n",
       "    </tr>\n",
       "    <tr>\n",
       "      <th>197</th>\n",
       "      <td>현대홈쇼핑</td>\n",
       "      <td>57050</td>\n",
       "      <td>198</td>\n",
       "      <td>인터넷과카탈로그소매</td>\n",
       "      <td>현대백화점</td>\n",
       "    </tr>\n",
       "    <tr>\n",
       "      <th>198</th>\n",
       "      <td>지누스</td>\n",
       "      <td>13890</td>\n",
       "      <td>199</td>\n",
       "      <td>가구</td>\n",
       "      <td>현대백화점</td>\n",
       "    </tr>\n",
       "    <tr>\n",
       "      <th>199</th>\n",
       "      <td>화승엔터프라이즈</td>\n",
       "      <td>241590</td>\n",
       "      <td>200</td>\n",
       "      <td>섬유,의류,신발,호화품</td>\n",
       "      <td>화승</td>\n",
       "    </tr>\n",
       "  </tbody>\n",
       "</table>\n",
       "<p>72 rows × 5 columns</p>\n",
       "</div>"
      ],
      "text/plain": [
       "         name    code  rank      industry    sort\n",
       "2      SK하이닉스     660     3     반도체와반도체장비      SK\n",
       "8       NAVER   35420     9    양방향미디어와서비스     네이버\n",
       "12        카카오   35720    13    양방향미디어와서비스     카카오\n",
       "22       한국전력   15760    23        전기유틸리티  한국전력공사\n",
       "23         SK   34730    24          복합기업      SK\n",
       "..        ...     ...   ...           ...     ...\n",
       "194        보령    3850   195            제약      보령\n",
       "196     쿠쿠홈시스  284740   197      가정용기기와용품   쿠쿠홀딩스\n",
       "197     현대홈쇼핑   57050   198    인터넷과카탈로그소매   현대백화점\n",
       "198       지누스   13890   199            가구   현대백화점\n",
       "199  화승엔터프라이즈  241590   200  섬유,의류,신발,호화품      화승\n",
       "\n",
       "[72 rows x 5 columns]"
      ]
     },
     "execution_count": 8,
     "metadata": {},
     "output_type": "execute_result"
    }
   ],
   "source": [
    "kospi200[kospi200['name'].isin(positive_corr_list)]"
   ]
  },
  {
   "cell_type": "code",
   "execution_count": 9,
   "id": "2c1cb06a-c3c7-4fbe-8189-8728d92915fb",
   "metadata": {
    "tags": []
   },
   "outputs": [
    {
     "data": {
      "text/html": [
       "<div>\n",
       "<style scoped>\n",
       "    .dataframe tbody tr th:only-of-type {\n",
       "        vertical-align: middle;\n",
       "    }\n",
       "\n",
       "    .dataframe tbody tr th {\n",
       "        vertical-align: top;\n",
       "    }\n",
       "\n",
       "    .dataframe thead th {\n",
       "        text-align: right;\n",
       "    }\n",
       "</style>\n",
       "<table border=\"1\" class=\"dataframe\">\n",
       "  <thead>\n",
       "    <tr style=\"text-align: right;\">\n",
       "      <th></th>\n",
       "      <th>name</th>\n",
       "      <th>code</th>\n",
       "      <th>rank</th>\n",
       "      <th>industry</th>\n",
       "      <th>sort</th>\n",
       "    </tr>\n",
       "  </thead>\n",
       "  <tbody>\n",
       "    <tr>\n",
       "      <th>4</th>\n",
       "      <td>LG화학</td>\n",
       "      <td>51910</td>\n",
       "      <td>5</td>\n",
       "      <td>화학</td>\n",
       "      <td>LG</td>\n",
       "    </tr>\n",
       "    <tr>\n",
       "      <th>5</th>\n",
       "      <td>삼성SDI</td>\n",
       "      <td>6400</td>\n",
       "      <td>6</td>\n",
       "      <td>전기제품</td>\n",
       "      <td>삼성</td>\n",
       "    </tr>\n",
       "    <tr>\n",
       "      <th>10</th>\n",
       "      <td>포스코퓨처엠</td>\n",
       "      <td>3670</td>\n",
       "      <td>11</td>\n",
       "      <td>화학</td>\n",
       "      <td>포스코</td>\n",
       "    </tr>\n",
       "    <tr>\n",
       "      <th>65</th>\n",
       "      <td>오리온</td>\n",
       "      <td>271560</td>\n",
       "      <td>66</td>\n",
       "      <td>식품</td>\n",
       "      <td>오리온홀딩스</td>\n",
       "    </tr>\n",
       "    <tr>\n",
       "      <th>100</th>\n",
       "      <td>LS</td>\n",
       "      <td>6260</td>\n",
       "      <td>101</td>\n",
       "      <td>전기장비</td>\n",
       "      <td>LS</td>\n",
       "    </tr>\n",
       "    <tr>\n",
       "      <th>173</th>\n",
       "      <td>오리온홀딩스</td>\n",
       "      <td>1800</td>\n",
       "      <td>174</td>\n",
       "      <td>식품</td>\n",
       "      <td>오리온홀딩스</td>\n",
       "    </tr>\n",
       "    <tr>\n",
       "      <th>182</th>\n",
       "      <td>삼양식품</td>\n",
       "      <td>3230</td>\n",
       "      <td>183</td>\n",
       "      <td>식품</td>\n",
       "      <td>삼양식품</td>\n",
       "    </tr>\n",
       "  </tbody>\n",
       "</table>\n",
       "</div>"
      ],
      "text/plain": [
       "       name    code  rank industry    sort\n",
       "4      LG화학   51910     5       화학      LG\n",
       "5     삼성SDI    6400     6     전기제품      삼성\n",
       "10   포스코퓨처엠    3670    11       화학     포스코\n",
       "65      오리온  271560    66       식품  오리온홀딩스\n",
       "100      LS    6260   101     전기장비      LS\n",
       "173  오리온홀딩스    1800   174       식품  오리온홀딩스\n",
       "182    삼양식품    3230   183       식품    삼양식품"
      ]
     },
     "execution_count": 9,
     "metadata": {},
     "output_type": "execute_result"
    }
   ],
   "source": [
    "kospi200[kospi200['name'].isin(negative_corr_list)]"
   ]
  },
  {
   "cell_type": "code",
   "execution_count": 10,
   "id": "2d42a610-ae0b-4125-8d78-b4bef0b1dc6d",
   "metadata": {
    "tags": []
   },
   "outputs": [],
   "source": [
    "# 업종 상관관계\n",
    "industry_merge_pivot = pd.merge(covid19, finance_industry_pivot, how='inner', on='date')\n",
    "industry_merge_pivot = industry_merge_pivot.drop(['male','female'], axis=1)\n",
    "industry_merge_pivot = industry_merge_pivot.set_index('date')\n",
    "industry_merge_pivot = industry_merge_pivot[industry_merge_pivot.index>'2022-01-26']\n",
    "industry_merge_pivot_corr = industry_merge_pivot.corr()\n",
    "\n",
    "industry_positive_corr_list = list(industry_merge_pivot_corr[industry_merge_pivot_corr['total'] >= 0.4].index)[1:]\n",
    "industry_negative_corr_list = list(industry_merge_pivot_corr[industry_merge_pivot_corr['total'] <= -0.4].index)\n",
    "industry_row_corr_list = list(industry_merge_pivot_corr[abs(industry_merge_pivot_corr['total']) <= 0.05].index)"
   ]
  },
  {
   "cell_type": "code",
   "execution_count": 11,
   "id": "a5059083-d1be-4027-b257-3cc0acc40e1e",
   "metadata": {
    "tags": []
   },
   "outputs": [
    {
     "name": "stdout",
     "output_type": "stream",
     "text": [
      "['다각화된통신서비스', '무역회사와판매업체', '생명보험', '에너지장비및서비스', '철강'] \n",
      "\n",
      "검정 탈락 : 5개 기업\n"
     ]
    }
   ],
   "source": [
    "# 상관 계수 유의성 검정\n",
    "variable_combinations = combinations(industry_merge_pivot_corr.columns, 2)\n",
    "count = 0\n",
    "cannot_corr_list = []\n",
    "for variable_pair in variable_combinations:\n",
    "    if variable_pair[0] == 'total':\n",
    "        x = industry_merge_pivot[variable_pair[0]]\n",
    "        y = industry_merge_pivot[variable_pair[1]]\n",
    "        correlation_coef, p_value = stats.pearsonr(x, y)\n",
    "\n",
    "        if p_value > 0.05:\n",
    "            cannot_corr_list.append(variable_pair[1])\n",
    "            count += 1\n",
    "            \n",
    "print(cannot_corr_list, '\\n')\n",
    "print('검정 탈락 :', f'{count}개 기업')"
   ]
  },
  {
   "cell_type": "code",
   "execution_count": 12,
   "id": "8648d320-28c6-48dd-8833-a0d684ecb90e",
   "metadata": {
    "tags": []
   },
   "outputs": [
    {
     "name": "stdout",
     "output_type": "stream",
     "text": [
      "긍정적 상관관계 \n",
      " ['IT서비스', '가구', '가정용기기와용품', '건설', '건축자재', '게임엔터테인먼트', '디스플레이패널', '무선통신서비스', '반도체와반도체장비', '백화점과일반상점', '복합기업', '상업서비스와공급품', '섬유,의류,신발,호화품', '양방향미디어와서비스', '은행', '인터넷과카탈로그소매', '전기유틸리티', '전자장비와기기', '제약', '포장재', '항공사', '항공화물운송과물류', '해운사', '호텔,레스토랑,레저', '화장품']\n",
      "\n",
      "부정적 상관관계 \n",
      " ['전기장비']\n"
     ]
    }
   ],
   "source": [
    "print('긍정적 상관관계', '\\n', industry_positive_corr_list)\n",
    "print()\n",
    "print('부정적 상관관계', '\\n', industry_negative_corr_list)"
   ]
  },
  {
   "cell_type": "code",
   "execution_count": 13,
   "id": "a12e3234-425d-42b2-8b03-18987373faa3",
   "metadata": {
    "tags": []
   },
   "outputs": [
    {
     "data": {
      "image/png": "[encoded data removed]",
      "text/plain": [
       "<Figure size 640x480 with 1 Axes>"
      ]
     },
     "metadata": {},
     "output_type": "display_data"
    },
    {
     "data": {
      "text/plain": [
       "<Figure size 1000x600 with 0 Axes>"
      ]
     },
     "metadata": {},
     "output_type": "display_data"
    }
   ],
   "source": [
    "# 코로나19 확진자 수 추이\n",
    "covid19_set = covid19.set_index('date')\n",
    "covid19_set = covid19_set[covid19_set.index>='2022-01-26']\n",
    "covid19_set = covid19_set.drop(['male','female'], axis=1)\n",
    "covid19_set.plot(kind='line', legend=True, color='red')\n",
    "\n",
    "plt.title('COVID19_daily (after)')\n",
    "plt.ylabel('단위 : (명)')\n",
    "plt.xticks(rotation=45)\n",
    "plt.figure(figsize=(10, 6))\n",
    "plt.show()"
   ]
  },
  {
   "cell_type": "code",
   "execution_count": 14,
   "id": "c9e49b0c-aa38-4db9-a678-b832d8df92fd",
   "metadata": {
    "tags": []
   },
   "outputs": [
    {
     "data": {
      "image/png": "[encoded data removed]",
      "text/plain": [
       "<Figure size 640x480 with 1 Axes>"
      ]
     },
     "metadata": {},
     "output_type": "display_data"
    },
    {
     "data": {
      "text/plain": [
       "<Figure size 1000x600 with 0 Axes>"
      ]
     },
     "metadata": {},
     "output_type": "display_data"
    }
   ],
   "source": [
    "# kospi200 지수\n",
    "numbers = pd.read_csv('./kospi200_number.csv')\n",
    "numbers_set = numbers.set_index('date')\n",
    "numbers_set = numbers_set[numbers_set.index>='2022-01-26']\n",
    "numbers_set.plot(kind='line', legend=True, color='blue')\n",
    "\n",
    "plt.title('KOSPI200')\n",
    "plt.xticks(rotation=45)\n",
    "plt.figure(figsize=(10, 6))\n",
    "plt.show()"
   ]
  },
  {
   "cell_type": "code",
   "execution_count": 15,
   "id": "e08ed261-aaa7-46ce-bf2a-bb879280258b",
   "metadata": {
    "tags": []
   },
   "outputs": [
    {
     "data": {
      "text/html": [
       "<div>\n",
       "<style scoped>\n",
       "    .dataframe tbody tr th:only-of-type {\n",
       "        vertical-align: middle;\n",
       "    }\n",
       "\n",
       "    .dataframe tbody tr th {\n",
       "        vertical-align: top;\n",
       "    }\n",
       "\n",
       "    .dataframe thead th {\n",
       "        text-align: right;\n",
       "    }\n",
       "</style>\n",
       "<table border=\"1\" class=\"dataframe\">\n",
       "  <thead>\n",
       "    <tr style=\"text-align: right;\">\n",
       "      <th></th>\n",
       "      <th>kospi200</th>\n",
       "      <th>total</th>\n",
       "    </tr>\n",
       "  </thead>\n",
       "  <tbody>\n",
       "    <tr>\n",
       "      <th>kospi200</th>\n",
       "      <td>1.000000</td>\n",
       "      <td>0.477025</td>\n",
       "    </tr>\n",
       "    <tr>\n",
       "      <th>total</th>\n",
       "      <td>0.477025</td>\n",
       "      <td>1.000000</td>\n",
       "    </tr>\n",
       "  </tbody>\n",
       "</table>\n",
       "</div>"
      ],
      "text/plain": [
       "          kospi200     total\n",
       "kospi200  1.000000  0.477025\n",
       "total     0.477025  1.000000"
      ]
     },
     "execution_count": 15,
     "metadata": {},
     "output_type": "execute_result"
    }
   ],
   "source": [
    "# kospi200 지수와 코로나19 확진자 수 간의 상관관계\n",
    "numbers_covid = pd.merge(numbers, covid19_set, how='left', on='date')\n",
    "numbers_covid_set = numbers_covid.set_index('date')\n",
    "numbers_covid_set = numbers_covid_set[numbers_covid_set.index>='2021-01-26']\n",
    "numbers_covid_set.corr()"
   ]
  },
  {
   "cell_type": "code",
   "execution_count": 16,
   "id": "01351779-ee4c-4305-850a-a9f4d1f06e00",
   "metadata": {
    "tags": []
   },
   "outputs": [],
   "source": [
    "# 계열사 상관관계\n",
    "sort_merge_pivot = pd.merge(covid19, finance_sort_pivot, how='inner', on='date')\n",
    "sort_merge_pivot = sort_merge_pivot.drop(['male','female'], axis=1)\n",
    "sort_merge_pivot = sort_merge_pivot.set_index('date')\n",
    "sort_merge_pivot = sort_merge_pivot[sort_merge_pivot.index>='2022-01-26']\n",
    "sort_merge_pivot_corr = sort_merge_pivot.corr()\n",
    "\n",
    "sort_positive_corr_list = list(sort_merge_pivot_corr[sort_merge_pivot_corr['total'] >= 0.6].index)[1:]\n",
    "sort_negative_corr_list = list(sort_merge_pivot_corr[sort_merge_pivot_corr['total'] <= -0.4].index)\n",
    "sort_row_corr_list = list(sort_merge_pivot_corr[abs(sort_merge_pivot_corr['total']) <= 0.05].index)"
   ]
  },
  {
   "cell_type": "code",
   "execution_count": 17,
   "id": "d6882004-abf2-42d2-9e24-08fb6a1f1c94",
   "metadata": {
    "tags": []
   },
   "outputs": [
    {
     "name": "stdout",
     "output_type": "stream",
     "text": [
      "['HL', 'KG', 'LIG', 'OCI', 'S-Oil', '대한유화', '메리츠금융', '씨에스윈드', '엘엑스', '영원무역홀딩스', '오뚜기', '케이티', '풍산', '한국타이어', '한미약품', '한솔', '현대자동차', '호반건설'] \n",
      "\n",
      "검정 탈락 : 18개 기업\n"
     ]
    }
   ],
   "source": [
    "# 상관 계수 유의성 검정\n",
    "variable_combinations = combinations(sort_merge_pivot_corr.columns, 2)\n",
    "count = 0\n",
    "cannot_corr_list = []\n",
    "for variable_pair in variable_combinations:\n",
    "    if variable_pair[0] == 'total':\n",
    "        x = sort_merge_pivot[variable_pair[0]]\n",
    "        y = sort_merge_pivot[variable_pair[1]]\n",
    "        correlation_coef, p_value = stats.pearsonr(x, y)\n",
    "\n",
    "        if p_value > 0.05:\n",
    "            cannot_corr_list.append(variable_pair[1])\n",
    "            count += 1\n",
    "            \n",
    "print(cannot_corr_list, '\\n')\n",
    "print('검정 탈락 :', f'{count}개 기업')"
   ]
  },
  {
   "cell_type": "code",
   "execution_count": 18,
   "id": "6e06b0bc-372d-47c2-999f-022f6039ab39",
   "metadata": {
    "tags": []
   },
   "outputs": [
    {
     "name": "stdout",
     "output_type": "stream",
     "text": [
      "긍정적 상관관계 \n",
      " ['DL', 'HDC', '네이버', '농협', '신세계', '신풍제약', '카카오', '한국전력공사']\n",
      "\n",
      "부정적 상관관계 \n",
      " ['LS', '삼양식품', '오리온홀딩스']\n"
     ]
    }
   ],
   "source": [
    "print('긍정적 상관관계', '\\n', sort_positive_corr_list)\n",
    "print()\n",
    "print('부정적 상관관계', '\\n', sort_negative_corr_list)"
   ]
  }
 ],
 "metadata": {
  "kernelspec": {
   "display_name": "Python 3 (ipykernel)",
   "language": "python",
   "name": "python3"
  },
  "language_info": {
   "codemirror_mode": {
    "name": "ipython",
    "version": 3
   },
   "file_extension": ".py",
   "mimetype": "text/x-python",
   "name": "python",
   "nbconvert_exporter": "python",
   "pygments_lexer": "ipython3",
   "version": "3.11.3"
  }
 },
 "nbformat": 4,
 "nbformat_minor": 5
}
