{
 "cells": [
  {
   "cell_type": "code",
   "execution_count": 1,
   "id": "09362d04-d800-4f2c-8761-d2991b07ef36",
   "metadata": {
    "tags": []
   },
   "outputs": [],
   "source": [
    "import pandas as pd\n",
    "import matplotlib.pyplot as plt\n",
    "from scipy import stats\n",
    "from itertools import combinations"
   ]
  },
  {
   "cell_type": "code",
   "execution_count": 2,
   "id": "259ccda9-ebd7-4994-8681-eaa395487610",
   "metadata": {
    "tags": []
   },
   "outputs": [],
   "source": [
    "# matplotlib 한글 설정\n",
    "\n",
    "import matplotlib\n",
    "matplotlib.rcParams['font.family'] = 'Malgun Gothic' # Windows\n",
    "# matplotlib.rcParams['font.family'] = 'AppleGothic' # Mac\n",
    "matplotlib.rcParams['font.size'] = 10\n",
    "matplotlib.rcParams['axes.unicode_minus'] = False"
   ]
  },
  {
   "cell_type": "code",
   "execution_count": 3,
   "id": "14e2890a-c6d4-4263-8bd5-aa52232c3ca4",
   "metadata": {
    "tags": []
   },
   "outputs": [],
   "source": [
    "covid19 = pd.read_csv('covid19_daily.csv')\n",
    "finance = pd.read_csv('finance.csv')\n",
    "industry = pd.read_csv('industry.csv')\n",
    "kospi200 = pd.read_csv('kospi200_last.csv')\n",
    "kospi200['sort'] = kospi200['sort'].fillna(kospi200['name'])\n",
    "finance_pivot = pd.pivot_table(finance, values='jong_ga', index='date', columns='name')\n",
    "finance_pivot = finance_pivot.dropna(axis=1)\n",
    "finance_industry = pd.merge(finance, kospi200, how='left', on='name')\n",
    "finance_industry = finance_industry.drop(columns=['code','rank'])\n",
    "finance_industry_pivot = pd.pivot_table(finance_industry, values='jong_ga', index='date', columns='industry', aggfunc='mean')\n",
    "finance_industry_pivot = finance_industry_pivot.dropna(axis=1)\n",
    "finance_sort_pivot = pd.pivot_table(finance_industry, values='jong_ga', index='date', columns='sort', aggfunc='mean')\n",
    "finance_sort_pivot = finance_sort_pivot.dropna(axis=1)"
   ]
  },
  {
   "cell_type": "code",
   "execution_count": 4,
   "id": "9f98b85f-b51a-4c98-8cf8-60b94d1f8c23",
   "metadata": {
    "tags": []
   },
   "outputs": [],
   "source": [
    "# 회사 상관관계\n",
    "merge_pivot = pd.merge(covid19, finance_pivot, how='inner', on='date')\n",
    "merge_pivot = merge_pivot.drop(['male','female'], axis=1)\n",
    "merge_pivot = merge_pivot.set_index('date')\n",
    "merge_pivot = merge_pivot[merge_pivot.index<'2022-01-20']\n",
    "merge_pivot_corr = merge_pivot.corr()\n",
    "\n",
    "positive_corr_list = list(merge_pivot_corr[merge_pivot_corr['total'] >= 0.4].index)[1:]\n",
    "negative_corr_list = list(merge_pivot_corr[merge_pivot_corr['total'] <= -0.4].index)\n",
    "row_corr_list = list(merge_pivot_corr[abs(merge_pivot_corr['total']) <= 0.05].index)"
   ]
  },
  {
   "cell_type": "code",
   "execution_count": 5,
   "id": "323cfd63-a78d-4a94-ba75-ae9f83d12448",
   "metadata": {
    "tags": []
   },
   "outputs": [
    {
     "data": {
      "image/png": "[encoded data removed]",
      "text/plain": [
       "<Figure size 640x480 with 1 Axes>"
      ]
     },
     "metadata": {},
     "output_type": "display_data"
    }
   ],
   "source": [
    "df = merge_pivot_corr['total']\n",
    "df = df.sort_values().iloc[:-1]\n",
    "x = df.index\n",
    "y = df.values\n",
    "\n",
    "plt.bar(x, y, color='y')\n",
    "plt.title('상관관계(before)')\n",
    "plt.xlabel('KOSPI200 기업')\n",
    "plt.ylabel('상관계수')\n",
    "plt.xticks([], [])\n",
    "plt.axhline(y=0.4, color='r', linestyle='--')\n",
    "plt.axhline(y=0.6, color='r', linestyle='--')\n",
    "plt.axhline(y=0.-0.4, color='b', linestyle='--')\n",
    "plt.ylim(-0.9,0.9)\n",
    "\n",
    "plt.show()"
   ]
  },
  {
   "cell_type": "code",
   "execution_count": 6,
   "id": "9c8ef95c-ac3b-4362-8b61-aef8c818e6f5",
   "metadata": {
    "tags": []
   },
   "outputs": [
    {
     "name": "stdout",
     "output_type": "stream",
     "text": [
      "['CJ', 'HD한국조선해양', 'KG스틸', 'KT&G', 'SK네트웍스', '넷마블', '녹십자', '녹십자홀딩스', '농심', '대우조선해양', '롯데쇼핑', '롯데지주', '롯데케미칼', '삼성중공업', '신세계', '씨에스윈드', '쿠쿠홈시스', '한국전력', '호텔신라', '휠라홀딩스'] \n",
      "\n",
      "검정 탈락 : 20개 기업\n"
     ]
    }
   ],
   "source": [
    "# 상관 계수 유의성 검정\n",
    "variable_combinations = combinations(merge_pivot_corr.columns, 2)\n",
    "count = 0\n",
    "cannot_corr_list = []\n",
    "for variable_pair in variable_combinations:\n",
    "    if variable_pair[0] == 'total':\n",
    "        x = merge_pivot[variable_pair[0]]\n",
    "        y = merge_pivot[variable_pair[1]]\n",
    "        correlation_coef, p_value = stats.pearsonr(x, y)\n",
    "\n",
    "        if p_value > 0.05:\n",
    "            cannot_corr_list.append(variable_pair[1])\n",
    "            count += 1\n",
    "            \n",
    "print(cannot_corr_list, '\\n')\n",
    "print('검정 탈락 :', f'{count}개 기업')"
   ]
  },
  {
   "cell_type": "code",
   "execution_count": 7,
   "id": "5a0bdfe7-3ba4-421b-a4b0-37cfdc39f6bc",
   "metadata": {
    "tags": []
   },
   "outputs": [
    {
     "name": "stdout",
     "output_type": "stream",
     "text": [
      "긍정적 상관관계 \n",
      " ['BNK금융지주', 'DB손해보험', 'DB하이텍', 'DGB금융지주', 'GS건설', 'HL만도', 'HMM', 'JB금융지주', 'KB금융', 'KCC', 'KT', 'LG디스플레이', 'LG유플러스', 'LG이노텍', 'LIG넥스원', 'LX인터내셔널', 'NAVER', 'NH투자증권', 'OCI홀딩스', 'PI첨단소재', 'S-Oil', 'SKC', 'TKG휴켐스', '고려아연', '기아', '기업은행', '대한전선', '대한항공', '동국제강', '동원시스템즈', '두산', '두산밥캣', '두산에너빌리티', '롯데에너지머티리얼즈', '롯데정밀화학', '롯데칠성', '메리츠금융지주', '삼성SDI', '삼성바이오로직스', '삼성엔지니어링', '삼성전기', '삼성전자', '삼성증권', '삼성화재', '신한지주', '쌍용C&E', '아시아나항공', '에스엘', '영원무역', '영풍', '우리금융지주', '제일기획', '코오롱인더', '태광산업', '포스코인터내셔널', '포스코퓨처엠', '하나금융지주', '하나투어', '한국가스공사', '한세실업', '한솔케미칼', '한전KPS', '한전기술', '한화', '한화생명', '한화에어로스페이스', '현대건설', '현대로템', '현대미포조선', '현대위아', '효성', '효성첨단소재', '효성티앤씨', '후성']\n",
      "\n",
      "부정적 상관관계 \n",
      " ['DL', 'GS리테일', 'HD현대', 'LG생활건강', 'SK텔레콤', '삼성에스디에스', '아모레G', '에스원', '오뚜기', '오리온', '카카오', '한올바이오파마']\n"
     ]
    }
   ],
   "source": [
    "print('긍정적 상관관계', '\\n', positive_corr_list)\n",
    "print()\n",
    "print('부정적 상관관계', '\\n', negative_corr_list)"
   ]
  },
  {
   "cell_type": "code",
   "execution_count": 8,
   "id": "fa62ddbf-b056-4b21-9904-34c12a2476dc",
   "metadata": {
    "tags": []
   },
   "outputs": [
    {
     "data": {
      "text/html": [
       "<div>\n",
       "<style scoped>\n",
       "    .dataframe tbody tr th:only-of-type {\n",
       "        vertical-align: middle;\n",
       "    }\n",
       "\n",
       "    .dataframe tbody tr th {\n",
       "        vertical-align: top;\n",
       "    }\n",
       "\n",
       "    .dataframe thead th {\n",
       "        text-align: right;\n",
       "    }\n",
       "</style>\n",
       "<table border=\"1\" class=\"dataframe\">\n",
       "  <thead>\n",
       "    <tr style=\"text-align: right;\">\n",
       "      <th></th>\n",
       "      <th>name</th>\n",
       "      <th>code</th>\n",
       "      <th>rank</th>\n",
       "      <th>industry</th>\n",
       "      <th>sort</th>\n",
       "    </tr>\n",
       "  </thead>\n",
       "  <tbody>\n",
       "    <tr>\n",
       "      <th>0</th>\n",
       "      <td>삼성전자</td>\n",
       "      <td>5930</td>\n",
       "      <td>1</td>\n",
       "      <td>반도체와반도체장비</td>\n",
       "      <td>삼성</td>\n",
       "    </tr>\n",
       "    <tr>\n",
       "      <th>3</th>\n",
       "      <td>삼성바이오로직스</td>\n",
       "      <td>207940</td>\n",
       "      <td>4</td>\n",
       "      <td>제약</td>\n",
       "      <td>삼성</td>\n",
       "    </tr>\n",
       "    <tr>\n",
       "      <th>5</th>\n",
       "      <td>삼성SDI</td>\n",
       "      <td>6400</td>\n",
       "      <td>6</td>\n",
       "      <td>전기제품</td>\n",
       "      <td>삼성</td>\n",
       "    </tr>\n",
       "    <tr>\n",
       "      <th>7</th>\n",
       "      <td>기아</td>\n",
       "      <td>270</td>\n",
       "      <td>8</td>\n",
       "      <td>자동차</td>\n",
       "      <td>현대자동차</td>\n",
       "    </tr>\n",
       "    <tr>\n",
       "      <th>8</th>\n",
       "      <td>NAVER</td>\n",
       "      <td>35420</td>\n",
       "      <td>9</td>\n",
       "      <td>양방향미디어와서비스</td>\n",
       "      <td>네이버</td>\n",
       "    </tr>\n",
       "    <tr>\n",
       "      <th>...</th>\n",
       "      <td>...</td>\n",
       "      <td>...</td>\n",
       "      <td>...</td>\n",
       "      <td>...</td>\n",
       "      <td>...</td>\n",
       "    </tr>\n",
       "    <tr>\n",
       "      <th>174</th>\n",
       "      <td>TKG휴켐스</td>\n",
       "      <td>69260</td>\n",
       "      <td>175</td>\n",
       "      <td>화학</td>\n",
       "      <td>티케이지태광</td>\n",
       "    </tr>\n",
       "    <tr>\n",
       "      <th>175</th>\n",
       "      <td>아시아나항공</td>\n",
       "      <td>20560</td>\n",
       "      <td>176</td>\n",
       "      <td>항공사</td>\n",
       "      <td>금호아시아나</td>\n",
       "    </tr>\n",
       "    <tr>\n",
       "      <th>183</th>\n",
       "      <td>하나투어</td>\n",
       "      <td>39130</td>\n",
       "      <td>184</td>\n",
       "      <td>호텔,레스토랑,레저</td>\n",
       "      <td>하나투어</td>\n",
       "    </tr>\n",
       "    <tr>\n",
       "      <th>188</th>\n",
       "      <td>태광산업</td>\n",
       "      <td>3240</td>\n",
       "      <td>189</td>\n",
       "      <td>화학</td>\n",
       "      <td>태광</td>\n",
       "    </tr>\n",
       "    <tr>\n",
       "      <th>193</th>\n",
       "      <td>한세실업</td>\n",
       "      <td>105630</td>\n",
       "      <td>194</td>\n",
       "      <td>섬유,의류,신발,호화품</td>\n",
       "      <td>한세예스24홀딩스</td>\n",
       "    </tr>\n",
       "  </tbody>\n",
       "</table>\n",
       "<p>74 rows × 5 columns</p>\n",
       "</div>"
      ],
      "text/plain": [
       "         name    code  rank      industry       sort\n",
       "0        삼성전자    5930     1     반도체와반도체장비         삼성\n",
       "3    삼성바이오로직스  207940     4            제약         삼성\n",
       "5       삼성SDI    6400     6          전기제품         삼성\n",
       "7          기아     270     8           자동차      현대자동차\n",
       "8       NAVER   35420     9    양방향미디어와서비스        네이버\n",
       "..        ...     ...   ...           ...        ...\n",
       "174    TKG휴켐스   69260   175            화학     티케이지태광\n",
       "175    아시아나항공   20560   176           항공사     금호아시아나\n",
       "183      하나투어   39130   184    호텔,레스토랑,레저       하나투어\n",
       "188      태광산업    3240   189            화학         태광\n",
       "193      한세실업  105630   194  섬유,의류,신발,호화품  한세예스24홀딩스\n",
       "\n",
       "[74 rows x 5 columns]"
      ]
     },
     "execution_count": 8,
     "metadata": {},
     "output_type": "execute_result"
    }
   ],
   "source": [
    "kospi200[kospi200['name'].isin(positive_corr_list)]"
   ]
  },
  {
   "cell_type": "code",
   "execution_count": 9,
   "id": "24ef3374-7ce8-437d-89e8-ee3dd5dedea4",
   "metadata": {},
   "outputs": [
    {
     "data": {
      "text/html": [
       "<div>\n",
       "<style scoped>\n",
       "    .dataframe tbody tr th:only-of-type {\n",
       "        vertical-align: middle;\n",
       "    }\n",
       "\n",
       "    .dataframe tbody tr th {\n",
       "        vertical-align: top;\n",
       "    }\n",
       "\n",
       "    .dataframe thead th {\n",
       "        text-align: right;\n",
       "    }\n",
       "</style>\n",
       "<table border=\"1\" class=\"dataframe\">\n",
       "  <thead>\n",
       "    <tr style=\"text-align: right;\">\n",
       "      <th></th>\n",
       "      <th>name</th>\n",
       "      <th>code</th>\n",
       "      <th>rank</th>\n",
       "      <th>industry</th>\n",
       "      <th>sort</th>\n",
       "    </tr>\n",
       "  </thead>\n",
       "  <tbody>\n",
       "    <tr>\n",
       "      <th>12</th>\n",
       "      <td>카카오</td>\n",
       "      <td>35720</td>\n",
       "      <td>13</td>\n",
       "      <td>양방향미디어와서비스</td>\n",
       "      <td>카카오</td>\n",
       "    </tr>\n",
       "    <tr>\n",
       "      <th>29</th>\n",
       "      <td>SK텔레콤</td>\n",
       "      <td>17670</td>\n",
       "      <td>30</td>\n",
       "      <td>무선통신서비스</td>\n",
       "      <td>SK</td>\n",
       "    </tr>\n",
       "    <tr>\n",
       "      <th>33</th>\n",
       "      <td>삼성에스디에스</td>\n",
       "      <td>18260</td>\n",
       "      <td>34</td>\n",
       "      <td>IT서비스</td>\n",
       "      <td>삼성</td>\n",
       "    </tr>\n",
       "    <tr>\n",
       "      <th>38</th>\n",
       "      <td>LG생활건강</td>\n",
       "      <td>51900</td>\n",
       "      <td>39</td>\n",
       "      <td>화장품</td>\n",
       "      <td>LG</td>\n",
       "    </tr>\n",
       "    <tr>\n",
       "      <th>65</th>\n",
       "      <td>오리온</td>\n",
       "      <td>271560</td>\n",
       "      <td>66</td>\n",
       "      <td>식품</td>\n",
       "      <td>오리온홀딩스</td>\n",
       "    </tr>\n",
       "    <tr>\n",
       "      <th>70</th>\n",
       "      <td>HD현대</td>\n",
       "      <td>267250</td>\n",
       "      <td>71</td>\n",
       "      <td>석유와가스</td>\n",
       "      <td>HD현대</td>\n",
       "    </tr>\n",
       "    <tr>\n",
       "      <th>101</th>\n",
       "      <td>GS리테일</td>\n",
       "      <td>7070</td>\n",
       "      <td>102</td>\n",
       "      <td>백화점과일반상점</td>\n",
       "      <td>GS</td>\n",
       "    </tr>\n",
       "    <tr>\n",
       "      <th>108</th>\n",
       "      <td>아모레G</td>\n",
       "      <td>2790</td>\n",
       "      <td>109</td>\n",
       "      <td>화장품</td>\n",
       "      <td>아모레퍼시픽</td>\n",
       "    </tr>\n",
       "    <tr>\n",
       "      <th>119</th>\n",
       "      <td>에스원</td>\n",
       "      <td>12750</td>\n",
       "      <td>120</td>\n",
       "      <td>상업서비스와공급품</td>\n",
       "      <td>삼성</td>\n",
       "    </tr>\n",
       "    <tr>\n",
       "      <th>128</th>\n",
       "      <td>오뚜기</td>\n",
       "      <td>7310</td>\n",
       "      <td>129</td>\n",
       "      <td>식품</td>\n",
       "      <td>오뚜기</td>\n",
       "    </tr>\n",
       "    <tr>\n",
       "      <th>152</th>\n",
       "      <td>한올바이오파마</td>\n",
       "      <td>9420</td>\n",
       "      <td>153</td>\n",
       "      <td>제약</td>\n",
       "      <td>대웅</td>\n",
       "    </tr>\n",
       "    <tr>\n",
       "      <th>171</th>\n",
       "      <td>DL</td>\n",
       "      <td>210</td>\n",
       "      <td>172</td>\n",
       "      <td>화학</td>\n",
       "      <td>DL</td>\n",
       "    </tr>\n",
       "  </tbody>\n",
       "</table>\n",
       "</div>"
      ],
      "text/plain": [
       "        name    code  rank    industry    sort\n",
       "12       카카오   35720    13  양방향미디어와서비스     카카오\n",
       "29     SK텔레콤   17670    30     무선통신서비스      SK\n",
       "33   삼성에스디에스   18260    34       IT서비스      삼성\n",
       "38    LG생활건강   51900    39         화장품      LG\n",
       "65       오리온  271560    66          식품  오리온홀딩스\n",
       "70      HD현대  267250    71       석유와가스    HD현대\n",
       "101    GS리테일    7070   102    백화점과일반상점      GS\n",
       "108     아모레G    2790   109         화장품  아모레퍼시픽\n",
       "119      에스원   12750   120   상업서비스와공급품      삼성\n",
       "128      오뚜기    7310   129          식품     오뚜기\n",
       "152  한올바이오파마    9420   153          제약      대웅\n",
       "171       DL     210   172          화학      DL"
      ]
     },
     "execution_count": 9,
     "metadata": {},
     "output_type": "execute_result"
    }
   ],
   "source": [
    "kospi200[kospi200['name'].isin(negative_corr_list)]"
   ]
  },
  {
   "cell_type": "code",
   "execution_count": 10,
   "id": "f89c1a27-a12a-4050-93e9-70aa8e24dcb8",
   "metadata": {
    "tags": []
   },
   "outputs": [],
   "source": [
    "# 업종 상관관계\n",
    "industry_merge_pivot = pd.merge(covid19, finance_industry_pivot, how='inner', on='date')\n",
    "industry_merge_pivot = industry_merge_pivot.drop(['male','female'], axis=1)\n",
    "industry_merge_pivot = industry_merge_pivot.set_index('date')\n",
    "industry_merge_pivot = industry_merge_pivot[industry_merge_pivot.index<'2022-01-20']\n",
    "industry_merge_pivot_corr = industry_merge_pivot.corr()\n",
    "\n",
    "industry_positive_corr_list = list(industry_merge_pivot_corr[industry_merge_pivot_corr['total'] >= 0.6].index)[1:]\n",
    "industry_negative_corr_list = list(industry_merge_pivot_corr[industry_merge_pivot_corr['total'] <= -0.4].index)\n",
    "industry_row_corr_list = list(industry_merge_pivot_corr[abs(industry_merge_pivot_corr['total']) <= 0.05].index)"
   ]
  },
  {
   "cell_type": "code",
   "execution_count": 11,
   "id": "fec5bcad-3501-4d53-8cb9-861dd3c0665d",
   "metadata": {
    "tags": []
   },
   "outputs": [
    {
     "name": "stdout",
     "output_type": "stream",
     "text": [
      "['가구', '게임엔터테인먼트', '담배', '에너지장비및서비스', '항공화물운송과물류'] \n",
      "\n",
      "검정 탈락 : 5개 기업\n"
     ]
    }
   ],
   "source": [
    "# 상관 계수 유의성 검정\n",
    "variable_combinations = combinations(industry_merge_pivot_corr.columns, 2)\n",
    "count = 0\n",
    "cannot_corr_list = []\n",
    "for variable_pair in variable_combinations:\n",
    "    if variable_pair[0] == 'total':\n",
    "        x = industry_merge_pivot[variable_pair[0]]\n",
    "        y = industry_merge_pivot[variable_pair[1]]\n",
    "        correlation_coef, p_value = stats.pearsonr(x, y)\n",
    "\n",
    "        if p_value > 0.05:\n",
    "            cannot_corr_list.append(variable_pair[1])\n",
    "            count += 1\n",
    "            \n",
    "print(cannot_corr_list, '\\n')\n",
    "print('검정 탈락 :', f'{count}개 기업')"
   ]
  },
  {
   "cell_type": "code",
   "execution_count": 12,
   "id": "972b39ab-b8c5-4170-aa1a-c4704e9d8c1b",
   "metadata": {
    "tags": []
   },
   "outputs": [
    {
     "name": "stdout",
     "output_type": "stream",
     "text": [
      "긍정적 상관관계 \n",
      " ['비철금속', '섬유,의류,신발,호화품', '우주항공과국방', '전기유틸리티', '전자장비와기기']\n",
      "\n",
      "부정적 상관관계 \n",
      " ['무선통신서비스', '상업서비스와공급품']\n"
     ]
    }
   ],
   "source": [
    "print('긍정적 상관관계', '\\n', industry_positive_corr_list)\n",
    "print()\n",
    "print('부정적 상관관계', '\\n', industry_negative_corr_list)"
   ]
  },
  {
   "cell_type": "code",
   "execution_count": 13,
   "id": "d58c01e8-02f2-4110-90a7-c3cf775bd18b",
   "metadata": {
    "tags": []
   },
   "outputs": [
    {
     "data": {
      "image/png": "[encoded data removed]",
      "text/plain": [
       "<Figure size 640x480 with 1 Axes>"
      ]
     },
     "metadata": {},
     "output_type": "display_data"
    },
    {
     "data": {
      "text/plain": [
       "<Figure size 1000x600 with 0 Axes>"
      ]
     },
     "metadata": {},
     "output_type": "display_data"
    }
   ],
   "source": [
    "# 코로나19 확진자 수 추이\n",
    "covid19_set = covid19.set_index('date')\n",
    "covid19_set = covid19_set[covid19_set.index<'2022-01-20']\n",
    "covid19_set = covid19_set.drop(['male','female'], axis=1)\n",
    "covid19_set.plot(kind='line', legend=True, color='red')\n",
    "\n",
    "plt.title('COVID19_daily (before)')\n",
    "plt.ylabel('단위 : (명)')\n",
    "plt.xticks(rotation=45)\n",
    "plt.figure(figsize=(10, 6))\n",
    "plt.savefig('covid19_daily.png')\n",
    "plt.show()"
   ]
  },
  {
   "cell_type": "code",
   "execution_count": 14,
   "id": "b062c51e-fcc3-42e5-8a93-609f60b9fefa",
   "metadata": {
    "tags": []
   },
   "outputs": [
    {
     "data": {
      "image/png": "[encoded data removed]",
      "text/plain": [
       "<Figure size 640x480 with 1 Axes>"
      ]
     },
     "metadata": {},
     "output_type": "display_data"
    },
    {
     "data": {
      "text/plain": [
       "<Figure size 1000x600 with 0 Axes>"
      ]
     },
     "metadata": {},
     "output_type": "display_data"
    }
   ],
   "source": [
    "# kospi200 지수\n",
    "numbers = pd.read_csv('./kospi200_number.csv')\n",
    "numbers_set = numbers.set_index('date')\n",
    "numbers_set = numbers_set[numbers_set.index<'2022-01-20']\n",
    "numbers_set.plot(kind='line', legend=True, color='blue')\n",
    "\n",
    "plt.title('KOSPI200')\n",
    "plt.xticks(rotation=45)\n",
    "plt.figure(figsize=(10, 6))\n",
    "plt.show()"
   ]
  },
  {
   "cell_type": "code",
   "execution_count": 15,
   "id": "84c4ff5a-6c52-47d6-982f-089f76a6fde7",
   "metadata": {
    "tags": []
   },
   "outputs": [
    {
     "data": {
      "text/html": [
       "<div>\n",
       "<style scoped>\n",
       "    .dataframe tbody tr th:only-of-type {\n",
       "        vertical-align: middle;\n",
       "    }\n",
       "\n",
       "    .dataframe tbody tr th {\n",
       "        vertical-align: top;\n",
       "    }\n",
       "\n",
       "    .dataframe thead th {\n",
       "        text-align: right;\n",
       "    }\n",
       "</style>\n",
       "<table border=\"1\" class=\"dataframe\">\n",
       "  <thead>\n",
       "    <tr style=\"text-align: right;\">\n",
       "      <th></th>\n",
       "      <th>kospi200</th>\n",
       "      <th>total</th>\n",
       "    </tr>\n",
       "  </thead>\n",
       "  <tbody>\n",
       "    <tr>\n",
       "      <th>kospi200</th>\n",
       "      <td>1.000000</td>\n",
       "      <td>0.410055</td>\n",
       "    </tr>\n",
       "    <tr>\n",
       "      <th>total</th>\n",
       "      <td>0.410055</td>\n",
       "      <td>1.000000</td>\n",
       "    </tr>\n",
       "  </tbody>\n",
       "</table>\n",
       "</div>"
      ],
      "text/plain": [
       "          kospi200     total\n",
       "kospi200  1.000000  0.410055\n",
       "total     0.410055  1.000000"
      ]
     },
     "execution_count": 15,
     "metadata": {},
     "output_type": "execute_result"
    }
   ],
   "source": [
    "# kospi200 지수와 코로나19 확진자 수 간의 상관관계\n",
    "numbers_covid = pd.merge(numbers, covid19_set, how='left', on='date')\n",
    "numbers_covid_set = numbers_covid.set_index('date')\n",
    "numbers_covid_set = numbers_covid_set[numbers_covid_set.index<'2022-01-20']\n",
    "numbers_covid_set.corr()"
   ]
  },
  {
   "cell_type": "code",
   "execution_count": 17,
   "id": "ea6d5626-3cad-4797-b614-5b0d0e5c2078",
   "metadata": {
    "tags": []
   },
   "outputs": [],
   "source": [
    "# 계열사 상관관계\n",
    "sort_merge_pivot = pd.merge(covid19, finance_sort_pivot, how='inner', on='date')\n",
    "sort_merge_pivot = sort_merge_pivot.drop(['male','female'], axis=1)\n",
    "sort_merge_pivot = sort_merge_pivot.set_index('date')\n",
    "sort_merge_pivot = sort_merge_pivot[sort_merge_pivot.index<'2022-01-20']\n",
    "sort_merge_pivot_corr = sort_merge_pivot.corr()\n",
    "\n",
    "sort_positive_corr_list = list(sort_merge_pivot_corr[sort_merge_pivot_corr['total'] >= 0.6].index)[1:]\n",
    "sort_negative_corr_list = list(sort_merge_pivot_corr[sort_merge_pivot_corr['total'] <= -0.4].index)\n",
    "sort_row_corr_list = list(sort_merge_pivot_corr[abs(sort_merge_pivot_corr['total']) <= 0.05].index)"
   ]
  },
  {
   "cell_type": "code",
   "execution_count": 18,
   "id": "dd523938-a7c9-4012-95be-aa97d8daa5f8",
   "metadata": {
    "tags": []
   },
   "outputs": [
    {
     "name": "stdout",
     "output_type": "stream",
     "text": [
      "['KG', 'LG', '넷마블', '녹십자', '농심', '대우조선해양', '신세계', '씨에스윈드', '케이티앤지', '쿠쿠홀딩스', '한미약품', '현대백화점', '휠라홀딩스'] \n",
      "\n",
      "검정 탈락 : 13개 기업\n"
     ]
    }
   ],
   "source": [
    "# 상관 계수 유의성 검정\n",
    "variable_combinations = combinations(sort_merge_pivot_corr.columns, 2)\n",
    "count = 0\n",
    "cannot_corr_list = []\n",
    "for variable_pair in variable_combinations:\n",
    "    if variable_pair[0] == 'total':\n",
    "        x = sort_merge_pivot[variable_pair[0]]\n",
    "        y = sort_merge_pivot[variable_pair[1]]\n",
    "        correlation_coef, p_value = stats.pearsonr(x, y)\n",
    "\n",
    "        if p_value > 0.05:\n",
    "            cannot_corr_list.append(variable_pair[1])\n",
    "            count += 1\n",
    "            \n",
    "print(cannot_corr_list, '\\n')\n",
    "print('검정 탈락 :', f'{count}개 기업')"
   ]
  },
  {
   "cell_type": "code",
   "execution_count": 19,
   "id": "d78be8c7-81ae-4bca-8449-b1ba0db13398",
   "metadata": {
    "tags": []
   },
   "outputs": [
    {
     "name": "stdout",
     "output_type": "stream",
     "text": [
      "긍정적 상관관계 \n",
      " ['BNK금융지주', 'DB', 'DGB금융지주', 'JB금융지주', 'KB금융', 'LIG', '금호아시아나', '두산', '메리츠금융', '영풍', '우리금융', '케이씨씨', '코오롱', '한국전력공사', '한솔', '효성', '후성']\n",
      "\n",
      "부정적 상관관계 \n",
      " ['HD현대', '오뚜기', '오리온홀딩스', '카카오']\n"
     ]
    }
   ],
   "source": [
    "print('긍정적 상관관계', '\\n', sort_positive_corr_list)\n",
    "print()\n",
    "print('부정적 상관관계', '\\n', sort_negative_corr_list)"
   ]
  }
 ],
 "metadata": {
  "kernelspec": {
   "display_name": "Python 3 (ipykernel)",
   "language": "python",
   "name": "python3"
  },
  "language_info": {
   "codemirror_mode": {
    "name": "ipython",
    "version": 3
   },
   "file_extension": ".py",
   "mimetype": "text/x-python",
   "name": "python",
   "nbconvert_exporter": "python",
   "pygments_lexer": "ipython3",
   "version": "3.11.3"
  }
 },
 "nbformat": 4,
 "nbformat_minor": 5
}
